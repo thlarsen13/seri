{
 "cells": [
  {
   "cell_type": "code",
   "execution_count": 1,
   "id": "e617d7f6",
   "metadata": {},
   "outputs": [],
   "source": [
    "import tensorflow as tf\n",
    "from tensorflow import keras\n",
    "from tensorflow.keras import layers\n",
    "from tensorflow.keras.losses import Loss\n",
    "import time \n",
    "# from tensorflow.keras.applications import *\n",
    "# from matplotlib import plotly as plt\n",
    "import matplotlib.pyplot as plt\n",
    "import numpy as np\n",
    "from tqdm import tqdm\n",
    "from sklearn.manifold import TSNE\n",
    "import pickle\n",
    "from sklearn.decomposition import PCA"
   ]
  },
  {
   "cell_type": "code",
   "execution_count": 2,
   "id": "a8eda4e5",
   "metadata": {},
   "outputs": [],
   "source": [
    "plt.rcParams['figure.figsize'] = [12, 8]\n"
   ]
  },
  {
   "cell_type": "code",
   "execution_count": 3,
   "id": "6381cc66",
   "metadata": {},
   "outputs": [
    {
     "name": "stdout",
     "output_type": "stream",
     "text": [
      "(30000, 56, 28)\n",
      "(30000, 2)\n"
     ]
    },
    {
     "name": "stderr",
     "output_type": "stream",
     "text": [
      "2022-07-01 17:28:37.458793: I tensorflow/core/platform/cpu_feature_guard.cc:193] This TensorFlow binary is optimized with oneAPI Deep Neural Network Library (oneDNN) to use the following CPU instructions in performance-critical operations:  AVX2 AVX512F FMA\n",
      "To enable them in other operations, rebuild TensorFlow with the appropriate compiler flags.\n",
      "2022-07-01 17:28:38.018100: I tensorflow/core/common_runtime/gpu/gpu_device.cc:1532] Created device /job:localhost/replica:0/task:0/device:GPU:0 with 9651 MB memory:  -> device: 0, name: NVIDIA GeForce RTX 2080 Ti, pci bus id: 0000:d8:00.0, compute capability: 7.5\n"
     ]
    },
    {
     "name": "stdout",
     "output_type": "stream",
     "text": [
      "(5000, 56, 28, 1)\n",
      "(5000, 2)\n",
      "(56, 28, 1)\n"
     ]
    },
    {
     "data": {
      "image/png": "[encoded data removed]",
      "text/plain": [
       "<Figure size 432x288 with 1 Axes>"
      ]
     },
     "metadata": {
      "needs_background": "light"
     },
     "output_type": "display_data"
    },
    {
     "name": "stdout",
     "output_type": "stream",
     "text": [
      "tf.Tensor(\n",
      "[[7. 3.]\n",
      " [2. 9.]\n",
      " [1. 9.]\n",
      " ...\n",
      " [2. 4.]\n",
      " [4. 5.]\n",
      " [0. 6.]], shape=(5000, 2), dtype=float32)\n"
     ]
    }
   ],
   "source": [
    "batch_size = 32\n",
    "(x_train, y_train), (x_test, y_test) = tf.keras.datasets.mnist.load_data()\n",
    "\n",
    "N = x_train.shape[0] // 2\n",
    "x_train = np.concatenate((x_train[:N], x_train[N:]), axis=1)\n",
    "y_train = np.stack((y_train[:N], y_train[N:]), axis=1)\n",
    "# y_train = tf.ones(y_train.shape)\n",
    "N = x_test.shape[0] // 2\n",
    "\n",
    "x_test = np.concatenate((x_test[:N], x_test[N:]), axis=1)\n",
    "y_test = np.stack((y_test[:N], y_test[N:]), axis=1)\n",
    "# y_test = tf.ones(y_test.shape)\n",
    "print(x_train.shape)\n",
    "print(y_train.shape)\n",
    "\n",
    "\n",
    "\n",
    "input_shape = x_train[0].shape\n",
    "\n",
    "x_train = tf.convert_to_tensor(x_train, dtype=tf.float32)\n",
    "y_train = tf.convert_to_tensor(y_train, dtype=tf.float32)\n",
    "x_test = tf.convert_to_tensor(x_test, dtype=tf.float32)\n",
    "y_test = tf.convert_to_tensor(y_test, dtype=tf.float32)\n",
    "\n",
    "x_test = tf.expand_dims(x_test, -1)\n",
    "x_train = tf.expand_dims(x_train, -1)\n",
    "print(x_test.shape)\n",
    "print(y_test.shape)\n",
    "\n",
    "train_dataset = tf.data.Dataset.from_tensor_slices((x_train, y_train))\n",
    "train_dataset = train_dataset.shuffle(buffer_size=1024).batch(batch_size)\n",
    "\n",
    "# Prepare the validation dataset.\n",
    "test_dataset = tf.data.Dataset.from_tensor_slices((x_test, y_test))\n",
    "test_dataset = test_dataset.batch(batch_size)\n",
    "\n",
    "input_shape = x_test[0].shape\n",
    "num_classes = 10\n",
    "print(input_shape)\n",
    "\n",
    "plt.figure()\n",
    "plt.imshow(x_test[0, :, :, 0]) \n",
    "plt.show()\n",
    "print(y_test)\n",
    "\n"
   ]
  },
  {
   "cell_type": "code",
   "execution_count": 68,
   "id": "80a5f4a1",
   "metadata": {},
   "outputs": [
    {
     "name": "stdout",
     "output_type": "stream",
     "text": [
      "(5000, 56, 28)\n"
     ]
    }
   ],
   "source": [
    "(x_same, _), (_, _) = tf.keras.datasets.mnist.load_data()\n",
    "\n",
    "x_same = np.concatenate((x_same[:N], x_same[:N]), axis=1)\n",
    "print(x_same.shape)"
   ]
  },
  {
   "cell_type": "code",
   "execution_count": 4,
   "id": "8750d232",
   "metadata": {
    "scrolled": true
   },
   "outputs": [
    {
     "name": "stdout",
     "output_type": "stream",
     "text": [
      "Model: \"sequential\"\n",
      "_________________________________________________________________\n",
      " Layer (type)                Output Shape              Param #   \n",
      "=================================================================\n",
      " conv2d (Conv2D)             (None, 56, 28, 64)        640       \n",
      "                                                                 \n",
      " conv2d_1 (Conv2D)           (None, 56, 28, 64)        36928     \n",
      "                                                                 \n",
      " conv2d_2 (Conv2D)           (None, 56, 28, 32)        18464     \n",
      "                                                                 \n",
      " max_pooling2d (MaxPooling2D  (None, 28, 14, 32)       0         \n",
      " )                                                               \n",
      "                                                                 \n",
      " conv2d_3 (Conv2D)           (None, 28, 14, 32)        9248      \n",
      "                                                                 \n",
      " max_pooling2d_1 (MaxPooling  (None, 14, 7, 32)        0         \n",
      " 2D)                                                             \n",
      "                                                                 \n",
      " flatten (Flatten)           (None, 3136)              0         \n",
      "                                                                 \n",
      " dense (Dense)               (None, 50)                156850    \n",
      "                                                                 \n",
      " dense_1 (Dense)             (None, 20)                1020      \n",
      "                                                                 \n",
      "=================================================================\n",
      "Total params: 223,150\n",
      "Trainable params: 223,150\n",
      "Non-trainable params: 0\n",
      "_________________________________________________________________\n"
     ]
    }
   ],
   "source": [
    "kernel_size = (3, 3 )\n",
    "\n",
    "dilation_rate = 1\n",
    "\n",
    "model = keras.Sequential(\n",
    "    [\n",
    "        keras.Input(shape=input_shape),\n",
    "        layers.Conv2D(64, kernel_size=kernel_size, dilation_rate=dilation_rate, padding=\"same\", activation=\"relu\"),\n",
    "        layers.Conv2D(64, kernel_size=kernel_size, dilation_rate=dilation_rate, padding=\"same\", activation=\"relu\"),\n",
    "        layers.Conv2D(32, kernel_size=kernel_size, dilation_rate=dilation_rate, padding=\"same\", activation=\"relu\"),\n",
    "        layers.MaxPooling2D(pool_size=(2, 2)),\n",
    "        layers.Conv2D(32, kernel_size=kernel_size, dilation_rate=dilation_rate, padding=\"same\", activation=\"relu\"),\n",
    "        layers.MaxPooling2D(pool_size=(2, 2)),\n",
    "        layers.Flatten(),\n",
    "        layers.Dense(50, activation=\"relu\"),\n",
    "        layers.Dense(2*num_classes, activation=None),\n",
    "    ]\n",
    ")\n",
    "\n",
    "model.summary()\n",
    "\n",
    "\n",
    "optimizer = tf.keras.optimizers.Adam(0.001)\n",
    "\n",
    "cce_loss = tf.keras.losses.SparseCategoricalCrossentropy(from_logits=True)\n",
    "\n",
    "# loss_fn = cce_loss\n",
    "def loss_fn(y, y_hat): \n",
    "#     print(y[:, 0], y_hat[:, :10])\n",
    "    return cce_loss(y[:, 0], y_hat[:, :10]) + cce_loss(y[:, 1], y_hat[:, 10:])\n",
    "\n",
    "#         cce_loss(y_batch_train[:, 0], logits[:, :10]) + cce_loss(y_batch_train[:, 0], logits[:, 10:])\n",
    "\n"
   ]
  },
  {
   "cell_type": "code",
   "execution_count": 5,
   "id": "198b8479",
   "metadata": {},
   "outputs": [
    {
     "name": "stdout",
     "output_type": "stream",
     "text": [
      "Epoch 1/6\n"
     ]
    },
    {
     "name": "stderr",
     "output_type": "stream",
     "text": [
      "2022-07-01 17:28:40.087905: I tensorflow/stream_executor/cuda/cuda_dnn.cc:384] Loaded cuDNN version 8200\n",
      "2022-07-01 17:28:40.584566: I tensorflow/core/platform/default/subprocess.cc:304] Start cannot spawn child process: No such file or directory\n"
     ]
    },
    {
     "name": "stdout",
     "output_type": "stream",
     "text": [
      "938/938 [==============================] - 12s 10ms/step - loss: 1.6449 - val_loss: 0.4653\n",
      "Epoch 2/6\n",
      "938/938 [==============================] - 9s 10ms/step - loss: 0.3874 - val_loss: 0.3128\n",
      "Epoch 3/6\n",
      "938/938 [==============================] - 9s 10ms/step - loss: 0.2545 - val_loss: 0.2565\n",
      "Epoch 4/6\n",
      "938/938 [==============================] - 9s 10ms/step - loss: 0.1941 - val_loss: 0.2474\n",
      "Epoch 5/6\n",
      "938/938 [==============================] - 9s 10ms/step - loss: 0.1358 - val_loss: 0.1762\n",
      "Epoch 6/6\n",
      "938/938 [==============================] - 9s 10ms/step - loss: 0.1015 - val_loss: 0.1669\n"
     ]
    },
    {
     "data": {
      "text/plain": [
       "<keras.callbacks.History at 0x7f4de5d6cca0>"
      ]
     },
     "execution_count": 5,
     "metadata": {},
     "output_type": "execute_result"
    }
   ],
   "source": [
    "model.compile(\n",
    "    optimizer=tf.keras.optimizers.Adam(0.001),\n",
    "    loss=loss_fn\n",
    ")\n",
    "\n",
    "model.fit(\n",
    "    train_dataset,\n",
    "    epochs=6,\n",
    "    validation_data=test_dataset,\n",
    ")\n",
    "# !mkdir -p saved_model\n",
    "\n",
    "# model.save('saved_model/my_model')\n"
   ]
  },
  {
   "cell_type": "code",
   "execution_count": 69,
   "id": "d4220e09",
   "metadata": {
    "scrolled": true
   },
   "outputs": [
    {
     "name": "stdout",
     "output_type": "stream",
     "text": [
      "tf.Tensor([0. 6.], shape=(2,), dtype=float32)\n",
      "conv2d\n",
      "[0.2783005, 0.2390292, 0.19984548, 0.23694846, 0.19157255, 0.2781461, 0.2611245, 0.22263443, 0.15322213, 0.19050139, 0.23810366, 0.31842983, 0.19072947, 0.26445705, 0.25442845, 0.24294585, 0.30955833, 0.18076727, 0.13374275, 0.15273309]\n",
      "conv2d_1\n",
      "[0.38671806, 0.3359443, 0.2906912, 0.34173876, 0.27693892, 0.41067162, 0.3938992, 0.3169968, 0.23029867, 0.2857609, 0.34711394, 0.43941355, 0.28208533, 0.37397778, 0.35708928, 0.3624041, 0.4191304, 0.25078902, 0.18283159, 0.22217509]\n",
      "conv2d_2\n",
      "[0.63131684, 0.5678634, 0.49481058, 0.57321477, 0.47598004, 0.6477847, 0.6336502, 0.5210641, 0.37234372, 0.47385934, 0.5481988, 0.69180155, 0.44194022, 0.57914495, 0.5875131, 0.5754461, 0.65135145, 0.37899256, 0.2937635, 0.35332412]\n",
      "max_pooling2d\n",
      "[0.65158296, 0.58615094, 0.5139437, 0.5971681, 0.49422765, 0.67401266, 0.6590357, 0.53966516, 0.38594574, 0.4886877, 0.5743429, 0.7201766, 0.46039963, 0.61032104, 0.60951436, 0.5970819, 0.6810932, 0.3946125, 0.30538014, 0.36942738]\n",
      "conv2d_3\n",
      "[1.5555949, 1.5355889, 1.4264405, 1.6100847, 1.1537986, 1.9535211, 1.6519716, 1.2602036, 0.9564903, 1.3105235, 1.8233902, 2.1464348, 1.38972, 1.6806625, 1.7978779, 1.774035, 1.8352003, 1.0374858, 0.88731754, 1.146731]\n",
      "max_pooling2d_1\n",
      "[1.7444036, 1.7024624, 1.5711935, 1.7874153, 1.2900679, 2.1624758, 1.8411446, 1.4109315, 1.0667382, 1.4493325, 1.998892, 2.376011, 1.5348313, 1.8727973, 1.9814198, 1.9683135, 2.0536194, 1.1616801, 0.9822222, 1.2612237]\n",
      "flatten\n",
      "[1.7444036, 1.7024624, 1.5711935, 1.7874153, 1.2900679, 2.1624758, 1.8411446, 1.4109315, 1.0667382, 1.4493325, 1.998892, 2.376011, 1.5348313, 1.8727973, 1.9814198, 1.9683135, 2.0536194, 1.1616801, 0.9822222, 1.2612237]\n",
      "dense\n",
      "[1.2029405, 1.2091696, 1.0954692, 1.1383755, 0.9991188, 1.3147677, 1.3233049, 1.2324, 1.0144202, 1.137599, 1.2928723, 1.2272267, 1.2287295, 1.297018, 1.1339469, 1.2497878, 1.3438437, 1.1317391, 1.0378093, 1.1334811]\n"
     ]
    },
    {
     "data": {
      "image/png": "[encoded data removed]",
      "text/plain": [
       "<Figure size 288x288 with 1 Axes>"
      ]
     },
     "metadata": {
      "needs_background": "light"
     },
     "output_type": "display_data"
    },
    {
     "data": {
      "image/png": "[encoded data removed]",
      "text/plain": [
       "<Figure size 288x288 with 1 Axes>"
      ]
     },
     "metadata": {
      "needs_background": "light"
     },
     "output_type": "display_data"
    },
    {
     "data": {
      "image/png": "[encoded data removed]",
      "text/plain": [
       "<Figure size 288x288 with 1 Axes>"
      ]
     },
     "metadata": {
      "needs_background": "light"
     },
     "output_type": "display_data"
    },
    {
     "data": {
      "image/png": "[encoded data removed]",
      "text/plain": [
       "<Figure size 288x288 with 1 Axes>"
      ]
     },
     "metadata": {
      "needs_background": "light"
     },
     "output_type": "display_data"
    },
    {
     "data": {
      "image/png": "[encoded data removed]",
      "text/plain": [
       "<Figure size 288x288 with 1 Axes>"
      ]
     },
     "metadata": {
      "needs_background": "light"
     },
     "output_type": "display_data"
    },
    {
     "data": {
      "image/png": "[encoded data removed]",
      "text/plain": [
       "<Figure size 288x288 with 1 Axes>"
      ]
     },
     "metadata": {
      "needs_background": "light"
     },
     "output_type": "display_data"
    },
    {
     "data": {
      "image/png": "[encoded data removed]",
      "text/plain": [
       "<Figure size 288x288 with 1 Axes>"
      ]
     },
     "metadata": {
      "needs_background": "light"
     },
     "output_type": "display_data"
    },
    {
     "data": {
      "image/png": "[encoded data removed]",
      "text/plain": [
       "<Figure size 288x288 with 1 Axes>"
      ]
     },
     "metadata": {
      "needs_background": "light"
     },
     "output_type": "display_data"
    }
   ],
   "source": [
    "\n",
    "k=10\n",
    "n = 10\n",
    "x = x_same[k:k+n]\n",
    "# y = y_test[k:k+n]\n",
    "\n",
    "print(y_test[k])\n",
    "\n",
    "for i, layer in enumerate(model.layers[:-1]): \n",
    "    print(layer.name)\n",
    "    \n",
    "    aux_model1 = tf.keras.Model(inputs=model.inputs, outputs=layer.output)\n",
    "    aux_model2 = tf.keras.Model(inputs=model.layers[i+1].input, outputs=model.output)\n",
    "    jac = [] \n",
    "    for i in range(n):\n",
    "\n",
    "        with tf.GradientTape() as t:\n",
    "            hidden = aux_model1(x[i:i+1])\n",
    "\n",
    "            hidden = tf.Variable(hidden)\n",
    "            logits = aux_model2(hidden) \n",
    "            probs = tf.concat((tf.nn.softmax(logits[:, :10]), tf.nn.softmax(logits[:, 10:])), axis=1)\n",
    "#             print(f'loss: {cce_loss(y[i, 0], logits[:, :10])},  {cce_loss(y[i, 1], logits[:, 10:])}')\n",
    "#             print(f'probs: {probs.shape}')\n",
    "        j = t.jacobian(logits, hidden) \n",
    "\n",
    "        jac.append(j)\n",
    "\n",
    " \n",
    "    jac = np.array(jac).mean(axis=0)\n",
    "\n",
    "#     jac = jac.reshape(n, 20, jac.size // (20*n))\n",
    "    jac = jac.reshape(20, jac.size // 20)\n",
    "\n",
    "#     print(np.linalg.norm(jac, axis=1))\n",
    "    M = np.einsum('ij,kj->ik', jac / np.expand_dims(np.linalg.norm(jac, axis=1), axis=1), jac)\n",
    "#     M = M.mean(axis=0) \n",
    "    plt.matshow(M)\n",
    "    print([M[i, i] for i in range(20)])\n"
   ]
  },
  {
   "cell_type": "code",
   "execution_count": 64,
   "id": "0109452b",
   "metadata": {
    "scrolled": false
   },
   "outputs": [
    {
     "name": "stdout",
     "output_type": "stream",
     "text": [
      "tf.Tensor([0. 6.], shape=(2,), dtype=float32)\n",
      "conv2d\n",
      "[0.65834135, 0.5906822, 0.49913266, 0.6577828, 0.4810865, 0.75938475, 0.6683346, 0.56101793, 0.4009157, 0.5082759, 0.62490755, 0.7895576, 0.5242063, 0.6447868, 0.66354895, 0.67421204, 0.73084086, 0.45243233, 0.32097962, 0.4065112]\n",
      "conv2d_1\n",
      "[0.90442365, 0.8155619, 0.6963265, 0.89164186, 0.6624369, 1.0354825, 0.92956144, 0.7662887, 0.55218714, 0.70330286, 0.86781317, 1.0837708, 0.7283458, 0.8938376, 0.9101958, 0.9365254, 0.9934488, 0.6163852, 0.4373834, 0.5650519]\n",
      "conv2d_2\n",
      "[1.2471677, 1.1347096, 0.9606961, 1.2091354, 0.91634643, 1.4117237, 1.2739409, 1.0520223, 0.7596597, 0.9674017, 1.1891094, 1.4849858, 0.9858172, 1.2026213, 1.2669083, 1.2835101, 1.3285608, 0.84191376, 0.59735346, 0.7791369]\n",
      "max_pooling2d\n",
      "[1.2471673, 1.1347096, 0.960696, 1.2091354, 0.9163463, 1.4117237, 1.2739407, 1.0520223, 0.75965965, 0.9674017, 1.1891094, 1.4849857, 0.985817, 1.2026211, 1.2669085, 1.2835101, 1.3285608, 0.8419136, 0.5973536, 0.77913684]\n",
      "conv2d_3\n",
      "[1.9000621, 1.7914171, 1.5658313, 1.8805213, 1.360727, 2.216728, 1.9449935, 1.5889635, 1.1303493, 1.5409491, 2.068392, 2.4596183, 1.6194249, 1.9821863, 2.0973463, 2.1058192, 2.1554737, 1.2865951, 0.9902895, 1.3149222]\n",
      "max_pooling2d_1\n",
      "[1.9000622, 1.7914169, 1.5658313, 1.8805213, 1.3607268, 2.2167284, 1.9449935, 1.5889633, 1.1303492, 1.5409491, 2.0683918, 2.4596183, 1.6194249, 1.9821863, 2.0973463, 2.1058185, 2.1554735, 1.2865951, 0.9902895, 1.3149227]\n",
      "flatten\n",
      "[1.9000622, 1.7914169, 1.5658313, 1.8805213, 1.3607268, 2.2167284, 1.9449935, 1.5889633, 1.1303492, 1.5409491, 2.0683918, 2.4596183, 1.6194249, 1.9821863, 2.0973463, 2.1058185, 2.1554735, 1.2865951, 0.9902895, 1.3149227]\n",
      "dense\n",
      "[1.2029414, 1.209169, 1.0954684, 1.1383748, 0.99911743, 1.3147665, 1.3233037, 1.2323991, 1.0144197, 1.1375982, 1.2928714, 1.2272264, 1.2287294, 1.2970194, 1.1339476, 1.2497869, 1.343843, 1.1317384, 1.0378095, 1.1334819]\n"
     ]
    },
    {
     "data": {
      "image/png": "[encoded data removed]",
      "text/plain": [
       "<Figure size 288x288 with 1 Axes>"
      ]
     },
     "metadata": {
      "needs_background": "light"
     },
     "output_type": "display_data"
    },
    {
     "data": {
      "image/png": "[encoded data removed]",
      "text/plain": [
       "<Figure size 288x288 with 1 Axes>"
      ]
     },
     "metadata": {
      "needs_background": "light"
     },
     "output_type": "display_data"
    },
    {
     "data": {
      "image/png": "[encoded data removed]",
      "text/plain": [
       "<Figure size 288x288 with 1 Axes>"
      ]
     },
     "metadata": {
      "needs_background": "light"
     },
     "output_type": "display_data"
    },
    {
     "data": {
      "image/png": "[encoded data removed]",
      "text/plain": [
       "<Figure size 288x288 with 1 Axes>"
      ]
     },
     "metadata": {
      "needs_background": "light"
     },
     "output_type": "display_data"
    },
    {
     "data": {
      "image/png": "[encoded data removed]",
      "text/plain": [
       "<Figure size 288x288 with 1 Axes>"
      ]
     },
     "metadata": {
      "needs_background": "light"
     },
     "output_type": "display_data"
    },
    {
     "data": {
      "image/png": "[encoded data removed]",
      "text/plain": [
       "<Figure size 288x288 with 1 Axes>"
      ]
     },
     "metadata": {
      "needs_background": "light"
     },
     "output_type": "display_data"
    },
    {
     "data": {
      "image/png": "[encoded data removed]",
      "text/plain": [
       "<Figure size 288x288 with 1 Axes>"
      ]
     },
     "metadata": {
      "needs_background": "light"
     },
     "output_type": "display_data"
    },
    {
     "data": {
      "image/png": "[encoded data removed]",
      "text/plain": [
       "<Figure size 288x288 with 1 Axes>"
      ]
     },
     "metadata": {
      "needs_background": "light"
     },
     "output_type": "display_data"
    }
   ],
   "source": [
    "\n",
    "k=10\n",
    "n = 100\n",
    "x = x_test[k:k+n]\n",
    "y = y_test[k:k+n]\n",
    "\n",
    "print(y_test[k])\n",
    "\n",
    "for i, layer in enumerate(model.layers[:-1]): \n",
    "    print(layer.name)\n",
    "    \n",
    "    aux_model1 = tf.keras.Model(inputs=model.inputs, outputs=layer.output)\n",
    "    aux_model2 = tf.keras.Model(inputs=model.layers[i+1].input, outputs=model.output)\n",
    "    jac = [] \n",
    "    for i in range(n):\n",
    "\n",
    "        with tf.GradientTape() as t:\n",
    "            hidden = aux_model1(x[i:i+1])\n",
    "\n",
    "            hidden = tf.Variable(hidden)\n",
    "            logits = aux_model2(hidden) \n",
    "            probs = tf.concat((tf.nn.softmax(logits[:, :10]), tf.nn.softmax(logits[:, 10:])), axis=1)\n",
    "#             print(f'loss: {cce_loss(y[i, 0], logits[:, :10])},  {cce_loss(y[i, 1], logits[:, 10:])}')\n",
    "#             print(f'probs: {probs.shape}')\n",
    "        j = t.jacobian(logits, hidden) \n",
    "\n",
    "        jac.append(j)\n",
    "\n",
    "    \n",
    "    jac = np.array(jac)\n",
    "\n",
    "    jac = jac.reshape(n, 20, jac.size // (20*n))\n",
    "#     jac = jac.reshape(20, jac.size // 20)\n",
    "\n",
    "#     print(np.linalg.norm(jac, axis=1))\n",
    "    M = np.einsum('mij,mkj->mik', jac / np.expand_dims(np.linalg.norm(jac, axis=2), axis=2), jac)\n",
    "    M = M.mean(axis=0) \n",
    "    plt.matshow(M)\n",
    "    print([M[i, i] for i in range(20)])\n"
   ]
  },
  {
   "cell_type": "code",
   "execution_count": 30,
   "id": "51499dff",
   "metadata": {},
   "outputs": [
    {
     "name": "stdout",
     "output_type": "stream",
     "text": [
      "[[ 2.30938315e-14  3.28689466e-21  3.18092167e-26  5.54051522e-22\n",
      "   2.41092654e-21  3.70055857e-16  2.13263516e-13  3.76318711e-19\n",
      "   2.17365213e-21  7.96694645e-21  1.71771177e-15 -1.82938785e-17\n",
      "   9.01089980e-14  3.97562327e-13  4.06582267e-17 -3.23049869e-16\n",
      "  -1.36427348e-16  9.54015773e-18 -5.23501815e-13 -2.02360562e-13]\n",
      " [ 3.28689466e-21  1.08448879e-18  4.21195380e-22  1.13383126e-24\n",
      "   4.79908991e-23  1.37163265e-18 -3.08770244e-16  9.56990704e-23\n",
      "   4.64494933e-22  1.20021943e-24  1.47700374e-13 -2.94616291e-15\n",
      "  -1.49838705e-13  3.37188702e-16  3.53242131e-15  4.37416847e-17\n",
      "  -7.94552705e-17  3.67440907e-17  3.03193580e-15 -1.50714933e-15]\n",
      " [ 3.18092167e-26  4.21195380e-22  1.17261365e-23 -1.32885004e-16\n",
      "   8.19386293e-21  5.21022660e-22  4.39922761e-22  3.33272987e-21\n",
      "   1.45075573e-24  1.78784292e-25  2.32736003e-15  6.20389389e-18\n",
      "  -1.94333202e-15  1.89327870e-18 -7.15617357e-18 -4.31603301e-19\n",
      "   1.04516597e-18  8.16102216e-17 -3.84108901e-16  4.97825748e-17]\n",
      " [ 5.54051522e-22  1.13383126e-24 -1.32885004e-16  1.01527106e-03\n",
      "  -5.13804706e-26 -1.32659259e-12  5.35458567e-21 -2.00881722e-17\n",
      "  -1.80486398e-12 -1.43596087e-15 -3.81213151e-11 -1.19082524e-05\n",
      "  -4.94567621e-06 -1.73136416e-09 -6.43723703e-04 -4.56067259e-12\n",
      "  -3.55400681e-10 -3.17512226e-04 -3.29352434e-10 -3.71787028e-05]\n",
      " [ 2.41092654e-21  4.79908991e-23  8.19386293e-21 -5.13804706e-26\n",
      "   1.58692842e-14  4.49507869e-23  3.24163602e-13  5.87687850e-20\n",
      "   5.68762823e-19  2.94284399e-20  4.77716477e-10  1.34840657e-15\n",
      "   4.91056544e-12  2.81157064e-12  6.78041139e-16  8.19750490e-14\n",
      "   4.12839657e-14  8.78230780e-15 -4.85531115e-10 -3.81545273e-13]\n",
      " [ 3.70055857e-16  1.37163265e-18  5.21022660e-22 -1.32659259e-12\n",
      "   4.49507869e-23  5.79981588e-06  8.02376862e-15  1.76137172e-18\n",
      "   8.03882677e-13  2.23316103e-13  1.84231755e-10 -1.64005975e-14\n",
      "  -5.80408550e-06  1.59865697e-11  7.20294269e-10  2.36918693e-13\n",
      "   2.62378805e-16  4.35105241e-09  1.62889452e-10 -1.17577981e-09]\n",
      " [ 2.13263516e-13 -3.08770244e-16  4.39922761e-22  5.35458567e-21\n",
      "   3.24163602e-13  8.02376862e-15  2.11367081e-03  6.59708085e-24\n",
      "  -1.07305354e-11  1.03878732e-14 -3.62184025e-08 -5.10061036e-05\n",
      "  -8.34215683e-12 -2.37498856e-08 -3.25432516e-08 -4.17219859e-08\n",
      "  -5.94625135e-07 -9.29011357e-09  5.34241700e-08 -2.06197985e-03]\n",
      " [ 3.76318711e-19  9.56990704e-23  3.33272987e-21 -2.00881722e-17\n",
      "   5.87687850e-20  1.76137172e-18  6.59708085e-24  3.25732778e-12\n",
      "   5.70573942e-23  1.12810985e-16  3.55275400e-14  8.88097740e-16\n",
      "  -2.18894252e-14  1.40703367e-12  4.34916893e-14 -3.53558932e-10\n",
      "   7.32281794e-16  8.98692131e-14  3.49962864e-10 -1.22858830e-12]\n",
      " [ 2.17365213e-21  4.64494933e-22  1.45075573e-24 -1.80486398e-12\n",
      "   5.68762823e-19  8.03882677e-13 -1.07305354e-11  5.70573942e-23\n",
      "   8.90442393e-18  9.18238722e-20  2.20964638e-14  5.72349717e-14\n",
      "  -7.89347591e-13  5.43290786e-15  8.41935245e-13  1.06708965e-14\n",
      "   1.91818770e-13  8.24296469e-13  1.05035514e-13  1.04623263e-11]\n",
      " [ 7.96694645e-21  1.20021943e-24  1.78784292e-25 -1.43596087e-15\n",
      "   2.94284399e-20  2.23316103e-13  1.03878732e-14  1.12810985e-16\n",
      "   9.18238722e-20  1.26222319e-15  2.46337320e-13 -1.76029252e-14\n",
      "  -1.19252377e-11  1.83219257e-14  1.38287404e-15 -1.98654163e-14\n",
      "   2.18895887e-15  8.65776808e-12  2.79222739e-12  1.08437886e-14]\n",
      " [ 1.71771177e-15  1.47700374e-13  2.32736003e-15 -3.81213151e-11\n",
      "   4.77716477e-10  1.84231755e-10 -3.62184025e-08  3.55275400e-14\n",
      "   2.20964638e-14  2.46337320e-13  4.07018015e-05  2.10415227e-11\n",
      "  -3.12005045e-06  1.48767587e-09  3.84210525e-10  2.28237274e-09\n",
      "   2.42836578e-08  6.15691764e-09 -3.75808995e-05  1.34470046e-10]\n",
      " [-1.82938785e-17 -2.94616291e-15  6.20389389e-18 -1.19082524e-05\n",
      "   1.34840657e-15 -1.64005975e-14 -5.10061036e-05  8.88097740e-16\n",
      "   5.72349717e-14 -1.76029252e-14  2.10415227e-11  5.14129679e-05\n",
      "   6.88274113e-08  1.13897357e-10  7.63300795e-06  5.71483555e-11\n",
      "  -1.39048355e-08  3.15796206e-06  5.59260749e-10  6.54722271e-07]\n",
      " [ 9.01089980e-14 -1.49838705e-13 -1.94333202e-15 -4.94567621e-06\n",
      "   4.91056544e-12 -5.80408550e-06 -8.34215683e-12 -2.18894252e-14\n",
      "  -7.89347591e-13 -1.19252377e-11 -3.12005045e-06  6.88274113e-08\n",
      "   1.26268377e-03  1.28116008e-05  1.90443507e-06  8.63943452e-15\n",
      "   3.91770470e-12  2.10283292e-06 -1.26593118e-03  2.29570347e-07]\n",
      " [ 3.97562327e-13  3.37188702e-16  1.89327870e-18 -1.73136416e-09\n",
      "   2.81157064e-12  1.59865697e-11 -2.37498856e-08  1.40703367e-12\n",
      "   5.43290786e-15  1.83219257e-14  1.48767587e-09  1.13897357e-10\n",
      "   1.28116008e-05  1.10535639e-05  1.69890091e-09  5.30535282e-10\n",
      "   8.87455223e-15  3.30135275e-09 -2.18014629e-05 -2.04535922e-06]\n",
      " [ 4.06582267e-17  3.53242131e-15 -7.15617357e-18 -6.43723703e-04\n",
      "   6.78041139e-16  7.20294269e-10 -3.25432516e-08  4.34916893e-14\n",
      "   8.41935245e-13  1.38287404e-15  3.84210525e-10  7.63300795e-06\n",
      "   1.90443507e-06  1.69890091e-09  5.39451663e-04  2.00724350e-11\n",
      "   1.49641952e-10  7.89805708e-05  3.59132002e-10  1.57832255e-05]\n",
      " [-3.23049869e-16  4.37416847e-17 -4.31603301e-19 -4.56067259e-12\n",
      "   8.19750490e-14  2.36918693e-13 -4.17219859e-08 -3.53558932e-10\n",
      "   1.06708965e-14 -1.98654163e-14  2.28237274e-09  5.71483555e-11\n",
      "   8.63943452e-15  5.30535282e-10  2.00724350e-11  1.01048329e-07\n",
      "  -1.14005159e-11 -7.69356454e-12 -1.00512686e-07  3.86750152e-08]\n",
      " [-1.36427348e-16 -7.94552705e-17  1.04516597e-18 -3.55400681e-10\n",
      "   4.12839657e-14  2.62378805e-16 -5.94625135e-07  7.32281794e-16\n",
      "   1.91818770e-13  2.18895887e-15  2.42836578e-08 -1.39048355e-08\n",
      "   3.91770470e-12  8.87455223e-15  1.49641952e-10 -1.14005159e-11\n",
      "   5.84265990e-07  2.07564299e-10  9.86020727e-12 -2.90226159e-11]\n",
      " [ 9.54015773e-18  3.67440907e-17  8.16102216e-17 -3.17512226e-04\n",
      "   8.78230780e-15  4.35105241e-09 -9.29011357e-09  8.98692131e-14\n",
      "   8.24296469e-13  8.65776808e-12  6.15691764e-09  3.15796206e-06\n",
      "   2.10283292e-06  3.30135275e-09  7.89805708e-05 -7.69356454e-12\n",
      "   2.07564299e-10  2.18783491e-04  3.63419623e-08  1.44462729e-05]\n",
      " [-5.23501815e-13  3.03193580e-15 -3.84108901e-16 -3.29352434e-10\n",
      "  -4.85531115e-10  1.62889452e-10  5.34241700e-08  3.49962864e-10\n",
      "   1.05035514e-13  2.79222739e-12 -3.75808995e-05  5.59260749e-10\n",
      "  -1.26593118e-03 -2.18014629e-05  3.59132002e-10 -1.00512686e-07\n",
      "   9.86020727e-12  3.63419623e-08  1.32539542e-03 -7.19661770e-08]\n",
      " [-2.02360562e-13 -1.50714933e-15  4.97825748e-17 -3.71787028e-05\n",
      "  -3.81545273e-13 -1.17577981e-09 -2.06197985e-03 -1.22858830e-12\n",
      "   1.04623263e-11  1.08437886e-14  1.34470046e-10  6.54722271e-07\n",
      "   2.29570347e-07 -2.04535922e-06  1.57832255e-05  3.86750152e-08\n",
      "  -2.90226159e-11  1.44462729e-05 -7.19661770e-08  2.07012449e-03]]\n"
     ]
    }
   ],
   "source": [
    "print(M)"
   ]
  },
  {
   "cell_type": "code",
   "execution_count": null,
   "id": "e241b432",
   "metadata": {},
   "outputs": [],
   "source": [
    "#PCA \n",
    "\n",
    "for j in range(5):\n",
    "    my_dict = {}\n",
    "\n",
    "    for layer in model.layers:\n",
    "        if 'conv' in layer.name: \n",
    "\n",
    "            aux_model = tf.keras.Model(inputs=model.inputs,\n",
    "                                       outputs=layer.output)\n",
    "\n",
    "            # Access both the final and intermediate output of the original model\n",
    "            # by calling `aux_model.predict()`.\n",
    "\n",
    "            # we have 6 layers, some principle components, and n data points and n filters. \n",
    "\n",
    "            intermediate_layer_output = tf.reduce_mean(aux_model(x_test[:n]), axis=0)\n",
    "            my_dict[layer.name] = []\n",
    "\n",
    "    #         print(intermediate_layer_output.shape)\n",
    "\n",
    "            for i in range(intermediate_layer_output.shape[-1]): \n",
    "                s, u, v = tf.linalg.svd(intermediate_layer_output[:, :, i])            \n",
    "                my_dict[layer.name].append(s[j])\n",
    "\n",
    "\n",
    "\n",
    "    fig, ax = plt.subplots()\n",
    "    ax.boxplot(my_dict.values())\n",
    "    ax.set_xticklabels(my_dict.keys())"
   ]
  },
  {
   "cell_type": "code",
   "execution_count": null,
   "id": "40cb3c01",
   "metadata": {},
   "outputs": [],
   "source": [
    "n = 100\n",
    "\n",
    "jac_dict = {}\n",
    "\n",
    "\"\"\"\n",
    "set up as:\n",
    "{\n",
    "  \"layer_0\": [[derivative vector for point 0 wrt L_d1], [derivative vector for point 0 wrt L_d2], \n",
    "  ..., [derivative vector for point n wrt L_d1], [derivative vector for point n wrt L_d2]],\n",
    ".\n",
    ".\n",
    ".\n",
    "{\n",
    "  \"layer_k\": [[derivative vector for point 0 wrt L_d1], [derivative vector for point 0 wrt L_d2], \n",
    "  ..., [derivative vector for point n wrt L_d1], [derivative vector for point n wrt L_d2]]\n",
    "} \n",
    "\"\"\"\n",
    "\n",
    "\n",
    "def jacobian_f(weights, layer_name): \n",
    "    print(f'layer_name: {layer_name}')\n",
    "#     print(f'weighst: {weights}')\n",
    "    for i in tqdm(range(n)): \n",
    "        x = x_test[i:i+1]\n",
    "        y = y_test[i:i+1]\n",
    "        with tf.GradientTape() as t:\n",
    "            logits = model(x) \n",
    "            cce_loss = tf.keras.losses.SparseCategoricalCrossentropy(from_logits=True)\n",
    "            cce_loss2 = tf.keras.losses.SparseCategoricalCrossentropy(from_logits=True)\n",
    "\n",
    "            loss1 = cce_loss(y[:, 0], logits[:, :10]) \n",
    "            loss2 = cce_loss2(y[:, 1], logits[:, 10:])\n",
    "            loss = tf.convert_to_tensor([loss1, loss2])\n",
    "        jac = t.jacobian(loss, weights)\n",
    "\n",
    "        \n",
    "#         print(jac[0].shape)\n",
    "#         break\n",
    "     \n",
    "        jac_dict[name].append(jac[0])\n",
    "\n",
    "#         if jac1 != None: \n",
    "#             print(jac1[0].shape)\n",
    "#             print(tf.reshape(jac1[0], (-1, jac1[0].shape[-1])).shape)\n",
    "\n",
    "for layer in model.layers: \n",
    "    name = layer.name \n",
    "    weights = layer.trainable_weights\n",
    "    if weights != []:\n",
    "        jac_dict[name] = []\n",
    "        jacobian_f(weights, name)"
   ]
  },
  {
   "cell_type": "code",
   "execution_count": null,
   "id": "7a32ad5b",
   "metadata": {},
   "outputs": [],
   "source": [
    "\n",
    "with open('jac_dict.pickle', 'wb') as handle:\n",
    "    pickle.dump(jac_dict, handle, protocol=pickle.HIGHEST_PROTOCOL)\n",
    "\n",
    "# with open('filename.pickle', 'rb') as handle:\n",
    "#     b = pickle.load(handle)\n",
    "\n",
    "# print(a == b)"
   ]
  },
  {
   "cell_type": "code",
   "execution_count": null,
   "id": "414a8c52",
   "metadata": {
    "scrolled": true
   },
   "outputs": [],
   "source": [
    "m = n\n",
    "plt.rcParams['figure.figsize'] = [12, 8]\n",
    "\n",
    "for layer in model.layers: \n",
    "    name = layer.name \n",
    "    weights = layer.trainable_weights\n",
    "    if weights != []:\n",
    "        grads = jac_dict[name]\n",
    "    #     print(len(grads))\n",
    "    #     break\n",
    "        X = np.array([g for g in grads])[:m] \n",
    "#         assert(X.shape[1] == 2)\n",
    "        print(X.shape)\n",
    "        X = X * weights[0].numpy()\n",
    "\n",
    "        X = X.reshape(m, 2, -1)\n",
    "        X = X.reshape(m*2, -1)\n",
    "\n",
    "        Y = y_test[:m].numpy().reshape(-1).astype(np.int32)\n",
    "\n",
    "        X_embedded = TSNE(n_components=2, learning_rate='auto', init='pca').fit_transform(X)\n",
    "\n",
    "        labels = [i % 2 for i in range(2*m)]\n",
    "        plt.figure()\n",
    "        plt.scatter(X_embedded[:, 0], X_embedded[:, 1], c = labels)\n",
    "        for i in range(0, len(X_embedded), 2):\n",
    "            plt.plot(X_embedded[i:i+2, 0], X_embedded[i:i+2, 1], '-', lw=.4)\n",
    "        for i in range(X_embedded.shape[0]):\n",
    "            plt.text(X_embedded[i,0], X_embedded[i,1], str(Y[i]))\n",
    "        plt.savefig(f'network1_{str(name)}')\n",
    "        plt.show()\n"
   ]
  },
  {
   "cell_type": "code",
   "execution_count": null,
   "id": "ba6b0852",
   "metadata": {},
   "outputs": [],
   "source": [
    "#Average gradient for the output \n",
    "my_dict = {}\n",
    "x_vals = []\n",
    "y_vals = []\n",
    "\n",
    "for i, layer in enumerate(model.layers): \n",
    "    name = layer.name \n",
    "    weights = layer.trainable_weights\n",
    "    if weights != []:\n",
    "        grads = jac_dict[name]\n",
    "    #     print(len(grads))\n",
    "    #     break\n",
    "        X = np.array([g for g in grads])[:n] \n",
    "#         assert(X.shape[1] == 2)\n",
    "        print(X.shape)\n",
    "   \n",
    "        if 'conv' in name: \n",
    "            X = X.mean(axis=(0,2,3,4))\n",
    "          \n",
    "        if 'dense' in name: \n",
    "            X = X.mean(axis=(0,3))\n",
    "        \n",
    "        print(f'{name} std: {np.std(X[0])},  {np.std(X[1])}')\n",
    "#         my_dict[name] = (X[0] / np.std(X[0])) - (X[1] / np.std(X[1]))\n",
    "        \n",
    "        my_dict[name] = []\n",
    "\n",
    "        for x in (X[0] / np.std(X[0])) - (X[1] / np.std(X[1])): \n",
    "            if x > .00001: \n",
    "                my_dict[name].append(x)\n",
    "            \n",
    "fig, ax = plt.subplots()\n",
    "\n",
    "# ax.scatter(x_vals, y_vals)\n",
    "ax.boxplot(my_dict.values())\n",
    "ax.set_xticklabels(my_dict.keys())\n",
    "\n",
    "# fig2, ax2 = plt.subplots()\n",
    "# ax2.boxplot(my_dict2.values())\n",
    "# ax2.set_xticklabels(my_dict2.keys())"
   ]
  },
  {
   "cell_type": "code",
   "execution_count": null,
   "id": "a2392429",
   "metadata": {},
   "outputs": [],
   "source": [
    "\n",
    "print(X_h.shape)"
   ]
  },
  {
   "cell_type": "code",
   "execution_count": null,
   "id": "fc8befb5",
   "metadata": {
    "scrolled": false
   },
   "outputs": [],
   "source": [
    "eps = .000000001\n",
    "# eps = 0\n",
    "plt.figure() \n",
    "layer_names = []\n",
    "percent_connected_layer = []\n",
    "for i, layer in enumerate(model.layers): \n",
    "    name = layer.name \n",
    "    print(f'\\n---layer: {name}---\\n')\n",
    "    weights = layer.trainable_weights\n",
    "    if weights != []:\n",
    "        grads = jac_dict[name]\n",
    "    #     print(len(grads))\n",
    "    #     break\n",
    "        X = np.array([g for g in grads])[:1] \n",
    "        \n",
    "#         assert(X.shape[1] == 2)\n",
    "        \n",
    "        connected = ((-eps < X) & (X < eps)) == 0 \n",
    "        #things that are not close to 0 are connected. negation of things close to 0\n",
    "        print(connected.shape)\n",
    "        connected_both = connected[:, 0] & connected[:, 1] #conected to both losses\n",
    "        print(connected_both.shape)\n",
    "\n",
    "\n",
    "        if 'conv' in name: \n",
    "            print(f'num_connected for each loss: {connected.sum(axis=(2, 3, 4, 5))}')\n",
    "            print(f'num_disconnected for each loss: {(connected == 0).sum(axis=(2, 3, 4, 5))}')\n",
    "            percent_connected = (connected).mean(axis=(2, 3, 4, 5))\n",
    "            percent_connected_both = (connected_both).mean(axis=(1, 2, 3, 4))\n",
    "\n",
    "        if 'dense' in name: \n",
    "            print(f'num_connected for each loss: {connected.sum(axis=(2, 3,))}')\n",
    "            print(f'num_disconnected for each loss: {(connected == 0).sum(axis=(2, 3))}')\n",
    "            percent_connected = (connected).mean(axis=(2, 3))\n",
    "            percent_connected_both = (connected_both).mean(axis=(1, 2))\n",
    "\n",
    "        \n",
    "        print(f'percent_connected for each loss: {percent_connected}')\n",
    "        print(f'percent_connected for both loss: {percent_connected_both}')\n",
    "\n",
    "        print(percent_connected.shape)\n",
    "        print(percent_connected_both.shape)\n",
    "        temp = np.concatenate((percent_connected, percent_connected_both.reshape((1, 1))), axis=1)\n",
    "        print(temp.shape)\n",
    "        percent_connected_layer.append(temp)\n",
    "        layer_names.append(name)\n",
    "\n",
    "percent_connected_layer = np.array(percent_connected_layer).reshape(len(layer_names), 3)\n",
    "print(percent_connected_layer.shape)\n",
    "X_axis = np.arange(len(layer_names))\n",
    "print(X_axis.shape)\n",
    "plt.bar(X_axis - 0.2, percent_connected_layer[:,0], 0.2, label = 'L1')\n",
    "plt.bar(X_axis + 0, percent_connected_layer[:,1], 0.2, label = 'L2')\n",
    "plt.bar(X_axis + 0.2, percent_connected_layer[:,2], 0.2, label = 'Both')\n",
    " \n",
    "plt.xticks(X_axis, layer_names)\n",
    "plt.xlabel(\"Layer\")\n",
    "plt.ylabel(\"Percent of neurons connected\")\n",
    "# plt.title(\"Number of Students in each group\")\n",
    "plt.legend()\n",
    "plt.savefig('specialization_by_layer.png')\n",
    "plt.show()"
   ]
  },
  {
   "cell_type": "code",
   "execution_count": null,
   "id": "01f1abd2",
   "metadata": {},
   "outputs": [],
   "source": []
  },
  {
   "cell_type": "code",
   "execution_count": null,
   "id": "07b06a1c",
   "metadata": {
    "scrolled": false
   },
   "outputs": [],
   "source": []
  },
  {
   "cell_type": "code",
   "execution_count": null,
   "id": "37b1380a",
   "metadata": {},
   "outputs": [],
   "source": [
    "\n",
    "for layer in model.layers: \n",
    "    if 'conv' in layer.name: \n",
    "        filters, biases = layer.get_weights()\n",
    "        # normalize filter values to 0-1 so we can visualize them\n",
    "\n",
    "        print(filters.shape)\n",
    "        # plot first few filters\n",
    "        n_filters, ix = filters.shape[-1, 1\n",
    "        \n",
    "        R = 8 \n",
    "        C = n_filters // R                               \n",
    "        fig,axes = plt.subplots(R, C)\n",
    "\n",
    "        for i in range(n_filters):\n",
    "            # get the filter\n",
    "            f = filters[:, :, 0, i]\n",
    "            # plot each channel separately\n",
    "                # specify subplot and turn of axis\n",
    "            axes[i % 8, i // 8].set_xticks([])\n",
    "            axes[i % 8, i // 8].set_yticks([])\n",
    "            # plot filter channel in grayscale\n",
    "            axes[i % 8, i // 8].matshow(f[:, :])\n",
    "            axes[i % 8, i // 8].axis('off')\n",
    "            ix += 1\n",
    "        # show the figure\n",
    "        plt.show()\n"
   ]
  },
  {
   "cell_type": "code",
   "execution_count": null,
   "id": "38396b6e",
   "metadata": {},
   "outputs": [],
   "source": []
  }
 ],
 "metadata": {
  "kernelspec": {
   "display_name": "Python 3 (ipykernel)",
   "language": "python",
   "name": "python3"
  },
  "language_info": {
   "codemirror_mode": {
    "name": "ipython",
    "version": 3
   },
   "file_extension": ".py",
   "mimetype": "text/x-python",
   "name": "python",
   "nbconvert_exporter": "python",
   "pygments_lexer": "ipython3",
   "version": "3.9.13"
  }
 },
 "nbformat": 4,
 "nbformat_minor": 5
}
