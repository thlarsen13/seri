{
 "cells": [
  {
   "cell_type": "code",
   "execution_count": 82,
   "id": "e617d7f6",
   "metadata": {},
   "outputs": [],
   "source": [
    "import tensorflow as tf\n",
    "from tensorflow import keras\n",
    "from tensorflow.keras import layers\n",
    "from tensorflow.keras.losses import Loss\n",
    "import time \n",
    "# from tensorflow.keras.applications import *\n",
    "# from matplotlib import plotly as plt\n",
    "import matplotlib.pyplot as plt\n",
    "import numpy as np"
   ]
  },
  {
   "cell_type": "code",
   "execution_count": 83,
   "id": "6381cc66",
   "metadata": {},
   "outputs": [
    {
     "name": "stdout",
     "output_type": "stream",
     "text": [
      "(30000, 56, 28)\n",
      "(30000, 2)\n",
      "(5000, 56, 28, 1)\n",
      "(5000, 2)\n",
      "(56, 28, 1)\n"
     ]
    }
   ],
   "source": [
    "batch_size = 32\n",
    "(x_train, y_train), (x_test, y_test) = tf.keras.datasets.mnist.load_data()\n",
    "\n",
    "N = x_train.shape[0] // 2\n",
    "x_train = np.concatenate((x_train[:N], x_train[N:]), axis=1)\n",
    "y_train = np.stack((y_train[:N], y_train[N:]), axis=1)\n",
    "N = x_test.shape[0] // 2\n",
    "\n",
    "x_test = np.concatenate((x_test[:N], x_test[N:]), axis=1)\n",
    "y_test = np.stack((y_test[:N], y_test[N:]), axis=1)\n",
    "\n",
    "print(x_train.shape)\n",
    "print(y_train.shape)\n",
    "\n",
    "\n",
    "input_shape = x_train[0].shape\n",
    "\n",
    "x_train = tf.convert_to_tensor(x_train, dtype=tf.float32)\n",
    "y_train = tf.convert_to_tensor(y_train, dtype=tf.float32)\n",
    "x_test = tf.convert_to_tensor(x_test, dtype=tf.float32)\n",
    "y_test = tf.convert_to_tensor(y_test, dtype=tf.float32)\n",
    "\n",
    "x_test = tf.expand_dims(x_test, -1)\n",
    "x_train = tf.expand_dims(x_train, -1)\n",
    "print(x_test.shape)\n",
    "print(y_test.shape)\n",
    "\n",
    "train_dataset = tf.data.Dataset.from_tensor_slices((x_train, y_train))\n",
    "train_dataset = train_dataset.shuffle(buffer_size=1024).batch(batch_size)\n",
    "\n",
    "# Prepare the validation dataset.\n",
    "test_dataset = tf.data.Dataset.from_tensor_slices((x_test, y_test))\n",
    "test_dataset = test_dataset.batch(batch_size)\n",
    "\n",
    "input_shape = x_test[0].shape\n",
    "num_classes = 10\n",
    "print(input_shape)\n",
    "\n"
   ]
  },
  {
   "cell_type": "code",
   "execution_count": 84,
   "id": "8750d232",
   "metadata": {
    "scrolled": true
   },
   "outputs": [
    {
     "name": "stdout",
     "output_type": "stream",
     "text": [
      "Model: \"sequential_26\"\n",
      "_________________________________________________________________\n",
      " Layer (type)                Output Shape              Param #   \n",
      "=================================================================\n",
      " conv2d_104 (Conv2D)         (None, 54, 26, 64)        640       \n",
      "                                                                 \n",
      " conv2d_105 (Conv2D)         (None, 52, 24, 64)        36928     \n",
      "                                                                 \n",
      " conv2d_106 (Conv2D)         (None, 50, 22, 32)        18464     \n",
      "                                                                 \n",
      " max_pooling2d_52 (MaxPoolin  (None, 25, 11, 32)       0         \n",
      " g2D)                                                            \n",
      "                                                                 \n",
      " conv2d_107 (Conv2D)         (None, 23, 9, 32)         9248      \n",
      "                                                                 \n",
      " max_pooling2d_53 (MaxPoolin  (None, 11, 4, 32)        0         \n",
      " g2D)                                                            \n",
      "                                                                 \n",
      " flatten_26 (Flatten)        (None, 1408)              0         \n",
      "                                                                 \n",
      " dense_52 (Dense)            (None, 128)               180352    \n",
      "                                                                 \n",
      " dense_53 (Dense)            (None, 20)                2580      \n",
      "                                                                 \n",
      "=================================================================\n",
      "Total params: 248,212\n",
      "Trainable params: 248,212\n",
      "Non-trainable params: 0\n",
      "_________________________________________________________________\n"
     ]
    }
   ],
   "source": [
    "\n",
    "model = keras.Sequential(\n",
    "    [\n",
    "        keras.Input(shape=input_shape),\n",
    "        layers.Conv2D(64, kernel_size=(3, 3), activation=\"relu\"),\n",
    "        layers.Conv2D(64, kernel_size=(3, 3), activation=\"relu\"),\n",
    "        layers.Conv2D(32, kernel_size=(3, 3), activation=\"relu\"),\n",
    "        layers.MaxPooling2D(pool_size=(2, 2)),\n",
    "        layers.Conv2D(32, kernel_size=(3, 3), activation=\"relu\"),\n",
    "        layers.MaxPooling2D(pool_size=(2, 2)),\n",
    "        layers.Flatten(),\n",
    "        layers.Dense(128, activation=\"relu\"),\n",
    "        layers.Dense(2*num_classes, activation=\"softmax\"),\n",
    "    ]\n",
    ")\n",
    "\n",
    "model.summary()\n",
    "\n",
    "\n",
    "optimizer = tf.keras.optimizers.Adam(0.001)\n",
    "\n",
    "cce_loss = tf.keras.losses.SparseCategoricalCrossentropy(from_logits=True)\n",
    "\n",
    "# loss_fn = cce_loss\n",
    "def loss_fn(y, y_hat): \n",
    "#     print(y[:, 0], y_hat[:, :10])\n",
    "    return cce_loss(y[:, 0], y_hat[:, :10]) + cce_loss(y[:, 0], y_hat[:, 10:])\n",
    "\n",
    "#         cce_loss(y_batch_train[:, 0], logits[:, :10]) + cce_loss(y_batch_train[:, 0], logits[:, 10:])\n",
    "\n"
   ]
  },
  {
   "cell_type": "code",
   "execution_count": 85,
   "id": "198b8479",
   "metadata": {},
   "outputs": [
    {
     "name": "stdout",
     "output_type": "stream",
     "text": [
      "Epoch 1/6\n",
      "938/938 [==============================] - 9s 9ms/step - loss: 4.6679 - val_loss: 4.6659\n",
      "Epoch 2/6\n",
      "938/938 [==============================] - 9s 9ms/step - loss: 4.6679 - val_loss: 4.6659\n",
      "Epoch 3/6\n",
      "938/938 [==============================] - 9s 9ms/step - loss: 4.6679 - val_loss: 4.6659\n",
      "Epoch 4/6\n",
      "938/938 [==============================] - 9s 9ms/step - loss: 4.6679 - val_loss: 4.6659\n",
      "Epoch 5/6\n",
      "938/938 [==============================] - 9s 9ms/step - loss: 4.6679 - val_loss: 4.6659\n",
      "Epoch 6/6\n",
      "938/938 [==============================] - 8s 9ms/step - loss: 4.6679 - val_loss: 4.6659\n"
     ]
    },
    {
     "data": {
      "text/plain": [
       "<keras.callbacks.History at 0x7f46e0147c10>"
      ]
     },
     "execution_count": 85,
     "metadata": {},
     "output_type": "execute_result"
    }
   ],
   "source": [
    "model.compile(\n",
    "    optimizer=tf.keras.optimizers.Adam(0.001),\n",
    "    loss=loss_fn\n",
    ")\n",
    "\n",
    "model.fit(\n",
    "    train_dataset,\n",
    "    epochs=6,\n",
    "    validation_data=test_dataset,\n",
    ")"
   ]
  },
  {
   "cell_type": "code",
   "execution_count": 72,
   "id": "c789cd6f",
   "metadata": {},
   "outputs": [
    {
     "name": "stdout",
     "output_type": "stream",
     "text": [
      "\n",
      "Start of epoch 0\n",
      "Training loss (for one epoch): 4.607485294342041)\n",
      "\n",
      "Start of epoch 1\n",
      "Training loss (for one epoch): 4.607485294342041)\n",
      "\n",
      "Start of epoch 2\n",
      "Training loss (for one epoch): 4.638735294342041)\n",
      "\n",
      "Start of epoch 3\n",
      "Training loss (for one epoch): 4.701235294342041)\n",
      "\n",
      "Start of epoch 4\n",
      "Training loss (for one epoch): 4.669985294342041)\n"
     ]
    }
   ],
   "source": [
    "\n",
    "forward_pass_times = []\n",
    "backward_pass_times = []\n",
    "\n",
    "epochs = 5\n",
    "for epoch in range(epochs):\n",
    "    print(\"\\nStart of epoch %d\" % (epoch,))\n",
    "\n",
    "    # Iterate over the batches of the dataset.\n",
    "    for step, (x_batch_train, y_batch_train) in enumerate(train_dataset):\n",
    "        \n",
    "#         print(y_batch_train[0])\n",
    "#         plt.figure()\n",
    "#         plt.imshow(x_batch_train[0, :, :, 0]) \n",
    "#         plt.show()       \n",
    "        # Open a GradientTape to record the operations run\n",
    "        # during the forward pass, which enables auto-differentiation.\n",
    "        with tf.GradientTape() as tape:\n",
    "\n",
    "            # Run the forward pass of the layer.\n",
    "            # The operations that the layer applies\n",
    "            # to its inputs are going to be recorded\n",
    "            # on the GradientTape.\n",
    "            start = time.time()\n",
    "            logits = model(x_batch_train, training=True)  # Logits for this minibatch\n",
    "            end = time.time()\n",
    "            forward_pass_times.append(end - start)\n",
    "\n",
    "            # Compute the loss value for this minibatch.\n",
    "#             print(y_batch_train.shape) \n",
    "#             print(logits.shape) \n",
    "            loss_value = loss_fn(y_batch_train, logits)\n",
    "\n",
    "#             loss_value = cce_loss(y_batch_train[:, 0], logits[:, :10]) + cce_loss(y_batch_train[:, 0], logits[:, 10:])\n",
    "\n",
    "        start = time.time()\n",
    "        # Use the gradient tape to automatically retrieve\n",
    "        # the gradients of the trainable variables with respect to the loss.\n",
    "        grads = tape.gradient(loss_value, model.trainable_weights)\n",
    "\n",
    "        # Run one step of gradient descent by updating\n",
    "        # the value of the variables to minimize the loss.\n",
    "        optimizer.apply_gradients(zip(grads, model.trainable_weights))\n",
    "        backward_pass_times.append(time.time() - start)\n",
    "        \n",
    "        if step > 100: \n",
    "            break\n",
    "\n",
    "#     print(f'forward pass 1-batch time = {np.array(forward_pass_times).mean()}')\n",
    "#     print(f'backwards pass 1-batch time = {np.array(backward_pass_times).mean()}')\n",
    "\n",
    "    print(f\"Training loss (for one epoch): {float(loss_value)})\")"
   ]
  },
  {
   "cell_type": "code",
   "execution_count": null,
   "id": "7e31f4ab",
   "metadata": {},
   "outputs": [],
   "source": []
  }
 ],
 "metadata": {
  "kernelspec": {
   "display_name": "Python 3 (ipykernel)",
   "language": "python",
   "name": "python3"
  },
  "language_info": {
   "codemirror_mode": {
    "name": "ipython",
    "version": 3
   },
   "file_extension": ".py",
   "mimetype": "text/x-python",
   "name": "python",
   "nbconvert_exporter": "python",
   "pygments_lexer": "ipython3",
   "version": "3.9.13"
  }
 },
 "nbformat": 4,
 "nbformat_minor": 5
}
